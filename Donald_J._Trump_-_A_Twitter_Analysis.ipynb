{
 "cells": [
  {
   "cell_type": "markdown",
   "metadata": {},
   "source": [
    "# Donald J. Trump - A twitter analysis\n",
    "\n",
    "\n",
    "### Hello! This is my course project for the course \"Data Analysis with Python: Zero to Pandas \" taught eloquently by Sir Aakash.\n",
    "\n",
    "### I've chosen a data set called \"Donald Trump tweets\", which was recommended by my instructor. In this project my primary goal was to analyse the behavior of Donald Trump's Twitter account leading upto the 2016 US General Election. The following libraries have been used in this project: (1) Pandas (2) Matplotlib\n",
    "\n",
    "### This course was an immense learning curve for me. I would like to thank my instructor for making me able to create this project."
   ]
  },
  {
   "cell_type": "code",
   "execution_count": 84,
   "metadata": {},
   "outputs": [],
   "source": [
    "project_name = \"Donald J. Trump - A twitter analysis \" "
   ]
  },
  {
   "cell_type": "code",
   "execution_count": 85,
   "metadata": {},
   "outputs": [],
   "source": [
    "!pip install jovian --upgrade -q"
   ]
  },
  {
   "cell_type": "code",
   "execution_count": 86,
   "metadata": {},
   "outputs": [],
   "source": [
    "import jovian"
   ]
  },
  {
   "cell_type": "code",
   "execution_count": 87,
   "metadata": {},
   "outputs": [
    {
     "data": {
      "application/javascript": [
       "window.require && require([\"base/js/namespace\"],function(Jupyter){Jupyter.notebook.save_checkpoint()})"
      ],
      "text/plain": [
       "<IPython.core.display.Javascript object>"
      ]
     },
     "metadata": {},
     "output_type": "display_data"
    },
    {
     "name": "stdout",
     "output_type": "stream",
     "text": [
      "[jovian] Attempting to save notebook..\n",
      "[jovian] Updating notebook \"saadberry29/donald-j-trump-a-twitter-analysis\" on https://jovian.ml/\n",
      "[jovian] Uploading notebook..\n",
      "[jovian] Capturing environment..\n",
      "[jovian] Committed successfully! https://jovian.ml/saadberry29/donald-j-trump-a-twitter-analysis\n"
     ]
    },
    {
     "data": {
      "text/plain": [
       "'https://jovian.ml/saadberry29/donald-j-trump-a-twitter-analysis'"
      ]
     },
     "execution_count": 87,
     "metadata": {},
     "output_type": "execute_result"
    }
   ],
   "source": [
    "jovian.commit(project=project_name)"
   ]
  },
  {
   "cell_type": "markdown",
   "metadata": {},
   "source": [
    "## Data Preparation and Cleaning\n",
    "\n",
    "In the intial stages of analysis, I performed some basic operations from calling Pandas/Matplotlib library to checking the type of file."
   ]
  },
  {
   "cell_type": "code",
   "execution_count": 88,
   "metadata": {},
   "outputs": [],
   "source": [
    "from urllib.request import urlretrieve"
   ]
  },
  {
   "cell_type": "code",
   "execution_count": 89,
   "metadata": {},
   "outputs": [
    {
     "name": "stdout",
     "output_type": "stream",
     "text": [
      "Requirement already satisfied: pandas in c:\\users\\xt\\anaconda3\\lib\\site-packages (1.0.1)\n",
      "Requirement already satisfied: python-dateutil>=2.6.1 in c:\\users\\xt\\anaconda3\\lib\\site-packages (from pandas) (2.8.1)\n",
      "Requirement already satisfied: numpy>=1.13.3 in c:\\users\\xt\\anaconda3\\lib\\site-packages (from pandas) (1.18.1)\n",
      "Requirement already satisfied: pytz>=2017.2 in c:\\users\\xt\\anaconda3\\lib\\site-packages (from pandas) (2019.3)\n",
      "Requirement already satisfied: six>=1.5 in c:\\users\\xt\\anaconda3\\lib\\site-packages (from python-dateutil>=2.6.1->pandas) (1.14.0)\n",
      "Requirement already satisfied: matplotlib in c:\\users\\xt\\anaconda3\\lib\\site-packages (3.1.3)\n",
      "Requirement already satisfied: kiwisolver>=1.0.1 in c:\\users\\xt\\anaconda3\\lib\\site-packages (from matplotlib) (1.1.0)\n",
      "Requirement already satisfied: cycler>=0.10 in c:\\users\\xt\\anaconda3\\lib\\site-packages (from matplotlib) (0.10.0)\n",
      "Requirement already satisfied: numpy>=1.11 in c:\\users\\xt\\anaconda3\\lib\\site-packages (from matplotlib) (1.18.1)\n",
      "Requirement already satisfied: pyparsing!=2.0.4,!=2.1.2,!=2.1.6,>=2.0.1 in c:\\users\\xt\\anaconda3\\lib\\site-packages (from matplotlib) (2.4.6)\n",
      "Requirement already satisfied: python-dateutil>=2.1 in c:\\users\\xt\\anaconda3\\lib\\site-packages (from matplotlib) (2.8.1)\n",
      "Requirement already satisfied: setuptools in c:\\users\\xt\\anaconda3\\lib\\site-packages (from kiwisolver>=1.0.1->matplotlib) (45.2.0.post20200210)\n",
      "Requirement already satisfied: six in c:\\users\\xt\\anaconda3\\lib\\site-packages (from cycler>=0.10->matplotlib) (1.14.0)\n",
      "Requirement already satisfied: numpy in c:\\users\\xt\\anaconda3\\lib\\site-packages (1.18.1)\n"
     ]
    }
   ],
   "source": [
    "!pip install pandas \n",
    "import pandas as pd  \n",
    "!pip install matplotlib \n",
    "import matplotlib \n",
    "import matplotlib.pyplot as plt\n",
    "import re \n",
    "!pip install numpy\n",
    "import numpy as np"
   ]
  },
  {
   "cell_type": "markdown",
   "metadata": {},
   "source": [
    "# Equating a readable version of file to variable 'twt'"
   ]
  },
  {
   "cell_type": "code",
   "execution_count": 90,
   "metadata": {},
   "outputs": [],
   "source": [
    "twt = pd.read_csv('trumptweets.csv') "
   ]
  },
  {
   "cell_type": "code",
   "execution_count": 91,
   "metadata": {},
   "outputs": [
    {
     "data": {
      "text/html": [
       "<div>\n",
       "<style scoped>\n",
       "    .dataframe tbody tr th:only-of-type {\n",
       "        vertical-align: middle;\n",
       "    }\n",
       "\n",
       "    .dataframe tbody tr th {\n",
       "        vertical-align: top;\n",
       "    }\n",
       "\n",
       "    .dataframe thead th {\n",
       "        text-align: right;\n",
       "    }\n",
       "</style>\n",
       "<table border=\"1\" class=\"dataframe\">\n",
       "  <thead>\n",
       "    <tr style=\"text-align: right;\">\n",
       "      <th></th>\n",
       "      <th>id</th>\n",
       "      <th>link</th>\n",
       "      <th>content</th>\n",
       "      <th>date</th>\n",
       "      <th>retweets</th>\n",
       "      <th>favorites</th>\n",
       "      <th>mentions</th>\n",
       "      <th>hashtags</th>\n",
       "      <th>geo</th>\n",
       "    </tr>\n",
       "  </thead>\n",
       "  <tbody>\n",
       "    <tr>\n",
       "      <th>0</th>\n",
       "      <td>1698308935</td>\n",
       "      <td>https://twitter.com/realDonaldTrump/status/169...</td>\n",
       "      <td>Be sure to tune in and watch Donald Trump on L...</td>\n",
       "      <td>2009-05-04 20:54:25</td>\n",
       "      <td>500</td>\n",
       "      <td>868</td>\n",
       "      <td>NaN</td>\n",
       "      <td>NaN</td>\n",
       "      <td>NaN</td>\n",
       "    </tr>\n",
       "    <tr>\n",
       "      <th>1</th>\n",
       "      <td>1701461182</td>\n",
       "      <td>https://twitter.com/realDonaldTrump/status/170...</td>\n",
       "      <td>Donald Trump will be appearing on The View tom...</td>\n",
       "      <td>2009-05-05 03:00:10</td>\n",
       "      <td>33</td>\n",
       "      <td>273</td>\n",
       "      <td>NaN</td>\n",
       "      <td>NaN</td>\n",
       "      <td>NaN</td>\n",
       "    </tr>\n",
       "    <tr>\n",
       "      <th>2</th>\n",
       "      <td>1737479987</td>\n",
       "      <td>https://twitter.com/realDonaldTrump/status/173...</td>\n",
       "      <td>Donald Trump reads Top Ten Financial Tips on L...</td>\n",
       "      <td>2009-05-08 15:38:08</td>\n",
       "      <td>12</td>\n",
       "      <td>18</td>\n",
       "      <td>NaN</td>\n",
       "      <td>NaN</td>\n",
       "      <td>NaN</td>\n",
       "    </tr>\n",
       "    <tr>\n",
       "      <th>3</th>\n",
       "      <td>1741160716</td>\n",
       "      <td>https://twitter.com/realDonaldTrump/status/174...</td>\n",
       "      <td>New Blog Post: Celebrity Apprentice Finale and...</td>\n",
       "      <td>2009-05-08 22:40:15</td>\n",
       "      <td>11</td>\n",
       "      <td>24</td>\n",
       "      <td>NaN</td>\n",
       "      <td>NaN</td>\n",
       "      <td>NaN</td>\n",
       "    </tr>\n",
       "    <tr>\n",
       "      <th>4</th>\n",
       "      <td>1773561338</td>\n",
       "      <td>https://twitter.com/realDonaldTrump/status/177...</td>\n",
       "      <td>\"My persona will never be that of a wallflower...</td>\n",
       "      <td>2009-05-12 16:07:28</td>\n",
       "      <td>1399</td>\n",
       "      <td>1965</td>\n",
       "      <td>NaN</td>\n",
       "      <td>NaN</td>\n",
       "      <td>NaN</td>\n",
       "    </tr>\n",
       "    <tr>\n",
       "      <th>...</th>\n",
       "      <td>...</td>\n",
       "      <td>...</td>\n",
       "      <td>...</td>\n",
       "      <td>...</td>\n",
       "      <td>...</td>\n",
       "      <td>...</td>\n",
       "      <td>...</td>\n",
       "      <td>...</td>\n",
       "      <td>...</td>\n",
       "    </tr>\n",
       "    <tr>\n",
       "      <th>41117</th>\n",
       "      <td>1218962544372670467</td>\n",
       "      <td>https://twitter.com/realDonaldTrump/status/121...</td>\n",
       "      <td>I have never seen the Republican Party as Stro...</td>\n",
       "      <td>2020-01-19 19:24:52</td>\n",
       "      <td>32620</td>\n",
       "      <td>213817</td>\n",
       "      <td>NaN</td>\n",
       "      <td>NaN</td>\n",
       "      <td>NaN</td>\n",
       "    </tr>\n",
       "    <tr>\n",
       "      <th>41118</th>\n",
       "      <td>1219004689716412416</td>\n",
       "      <td>https://twitter.com/realDonaldTrump/status/121...</td>\n",
       "      <td>Now Mini Mike Bloomberg is critical of Jack Wi...</td>\n",
       "      <td>2020-01-19 22:12:20</td>\n",
       "      <td>36239</td>\n",
       "      <td>149571</td>\n",
       "      <td>NaN</td>\n",
       "      <td>NaN</td>\n",
       "      <td>NaN</td>\n",
       "    </tr>\n",
       "    <tr>\n",
       "      <th>41119</th>\n",
       "      <td>1219053709428248576</td>\n",
       "      <td>https://twitter.com/realDonaldTrump/status/121...</td>\n",
       "      <td>I was thrilled to be back in the Great State o...</td>\n",
       "      <td>2020-01-20 01:27:07</td>\n",
       "      <td>16588</td>\n",
       "      <td>66944</td>\n",
       "      <td>NaN</td>\n",
       "      <td>#</td>\n",
       "      <td>NaN</td>\n",
       "    </tr>\n",
       "    <tr>\n",
       "      <th>41120</th>\n",
       "      <td>1219066007731310593</td>\n",
       "      <td>https://twitter.com/realDonaldTrump/status/121...</td>\n",
       "      <td>“In the House, the President got less due proc...</td>\n",
       "      <td>2020-01-20 02:16:00</td>\n",
       "      <td>20599</td>\n",
       "      <td>81921</td>\n",
       "      <td>@ @ @</td>\n",
       "      <td>NaN</td>\n",
       "      <td>NaN</td>\n",
       "    </tr>\n",
       "    <tr>\n",
       "      <th>41121</th>\n",
       "      <td>1219076533354037249</td>\n",
       "      <td>https://twitter.com/realDonaldTrump/status/121...</td>\n",
       "      <td>A great show! Check it out tonight at 9pm. @ F...</td>\n",
       "      <td>2020-01-20 02:57:49</td>\n",
       "      <td>7947</td>\n",
       "      <td>34902</td>\n",
       "      <td>@</td>\n",
       "      <td>NaN</td>\n",
       "      <td>NaN</td>\n",
       "    </tr>\n",
       "  </tbody>\n",
       "</table>\n",
       "<p>41122 rows × 9 columns</p>\n",
       "</div>"
      ],
      "text/plain": [
       "                        id                                               link  \\\n",
       "0               1698308935  https://twitter.com/realDonaldTrump/status/169...   \n",
       "1               1701461182  https://twitter.com/realDonaldTrump/status/170...   \n",
       "2               1737479987  https://twitter.com/realDonaldTrump/status/173...   \n",
       "3               1741160716  https://twitter.com/realDonaldTrump/status/174...   \n",
       "4               1773561338  https://twitter.com/realDonaldTrump/status/177...   \n",
       "...                    ...                                                ...   \n",
       "41117  1218962544372670467  https://twitter.com/realDonaldTrump/status/121...   \n",
       "41118  1219004689716412416  https://twitter.com/realDonaldTrump/status/121...   \n",
       "41119  1219053709428248576  https://twitter.com/realDonaldTrump/status/121...   \n",
       "41120  1219066007731310593  https://twitter.com/realDonaldTrump/status/121...   \n",
       "41121  1219076533354037249  https://twitter.com/realDonaldTrump/status/121...   \n",
       "\n",
       "                                                 content                 date  \\\n",
       "0      Be sure to tune in and watch Donald Trump on L...  2009-05-04 20:54:25   \n",
       "1      Donald Trump will be appearing on The View tom...  2009-05-05 03:00:10   \n",
       "2      Donald Trump reads Top Ten Financial Tips on L...  2009-05-08 15:38:08   \n",
       "3      New Blog Post: Celebrity Apprentice Finale and...  2009-05-08 22:40:15   \n",
       "4      \"My persona will never be that of a wallflower...  2009-05-12 16:07:28   \n",
       "...                                                  ...                  ...   \n",
       "41117  I have never seen the Republican Party as Stro...  2020-01-19 19:24:52   \n",
       "41118  Now Mini Mike Bloomberg is critical of Jack Wi...  2020-01-19 22:12:20   \n",
       "41119  I was thrilled to be back in the Great State o...  2020-01-20 01:27:07   \n",
       "41120  “In the House, the President got less due proc...  2020-01-20 02:16:00   \n",
       "41121  A great show! Check it out tonight at 9pm. @ F...  2020-01-20 02:57:49   \n",
       "\n",
       "       retweets  favorites mentions hashtags  geo  \n",
       "0           500        868      NaN      NaN  NaN  \n",
       "1            33        273      NaN      NaN  NaN  \n",
       "2            12         18      NaN      NaN  NaN  \n",
       "3            11         24      NaN      NaN  NaN  \n",
       "4          1399       1965      NaN      NaN  NaN  \n",
       "...         ...        ...      ...      ...  ...  \n",
       "41117     32620     213817      NaN      NaN  NaN  \n",
       "41118     36239     149571      NaN      NaN  NaN  \n",
       "41119     16588      66944      NaN        #  NaN  \n",
       "41120     20599      81921    @ @ @      NaN  NaN  \n",
       "41121      7947      34902        @      NaN  NaN  \n",
       "\n",
       "[41122 rows x 9 columns]"
      ]
     },
     "execution_count": 91,
     "metadata": {},
     "output_type": "execute_result"
    }
   ],
   "source": [
    "twt"
   ]
  },
  {
   "cell_type": "code",
   "execution_count": 92,
   "metadata": {},
   "outputs": [
    {
     "data": {
      "text/plain": [
       "pandas.core.frame.DataFrame"
      ]
     },
     "execution_count": 92,
     "metadata": {},
     "output_type": "execute_result"
    }
   ],
   "source": [
    "type(twt) # checking type of 'twt'"
   ]
  },
  {
   "cell_type": "code",
   "execution_count": 93,
   "metadata": {},
   "outputs": [
    {
     "name": "stdout",
     "output_type": "stream",
     "text": [
      "<class 'pandas.core.frame.DataFrame'>\n",
      "RangeIndex: 41122 entries, 0 to 41121\n",
      "Data columns (total 9 columns):\n",
      " #   Column     Non-Null Count  Dtype  \n",
      "---  ------     --------------  -----  \n",
      " 0   id         41122 non-null  int64  \n",
      " 1   link       41122 non-null  object \n",
      " 2   content    41122 non-null  object \n",
      " 3   date       41122 non-null  object \n",
      " 4   retweets   41122 non-null  int64  \n",
      " 5   favorites  41122 non-null  int64  \n",
      " 6   mentions   22467 non-null  object \n",
      " 7   hashtags   5810 non-null   object \n",
      " 8   geo        0 non-null      float64\n",
      "dtypes: float64(1), int64(3), object(5)\n",
      "memory usage: 2.8+ MB\n"
     ]
    }
   ],
   "source": [
    "twt.info() # checking info of 'twt'"
   ]
  },
  {
   "cell_type": "code",
   "execution_count": 94,
   "metadata": {},
   "outputs": [
    {
     "data": {
      "text/plain": [
       "0        Be sure to tune in and watch Donald Trump on L...\n",
       "1        Donald Trump will be appearing on The View tom...\n",
       "2        Donald Trump reads Top Ten Financial Tips on L...\n",
       "3        New Blog Post: Celebrity Apprentice Finale and...\n",
       "4        \"My persona will never be that of a wallflower...\n",
       "                               ...                        \n",
       "41117    I have never seen the Republican Party as Stro...\n",
       "41118    Now Mini Mike Bloomberg is critical of Jack Wi...\n",
       "41119    I was thrilled to be back in the Great State o...\n",
       "41120    “In the House, the President got less due proc...\n",
       "41121    A great show! Check it out tonight at 9pm. @ F...\n",
       "Name: content, Length: 41122, dtype: object"
      ]
     },
     "execution_count": 94,
     "metadata": {},
     "output_type": "execute_result"
    }
   ],
   "source": [
    "twt.content # displaying tweets"
   ]
  },
  {
   "cell_type": "code",
   "execution_count": 95,
   "metadata": {},
   "outputs": [
    {
     "data": {
      "text/plain": [
       "(41122, 9)"
      ]
     },
     "execution_count": 95,
     "metadata": {},
     "output_type": "execute_result"
    }
   ],
   "source": [
    "twt.shape # checking dimensions of csv file"
   ]
  },
  {
   "cell_type": "markdown",
   "metadata": {},
   "source": [
    "## Creating new variable 'twtElection' which will hold the records from 01.01.16 -> 08.11.16"
   ]
  },
  {
   "cell_type": "code",
   "execution_count": 96,
   "metadata": {},
   "outputs": [
    {
     "data": {
      "text/html": [
       "<div>\n",
       "<style scoped>\n",
       "    .dataframe tbody tr th:only-of-type {\n",
       "        vertical-align: middle;\n",
       "    }\n",
       "\n",
       "    .dataframe tbody tr th {\n",
       "        vertical-align: top;\n",
       "    }\n",
       "\n",
       "    .dataframe thead th {\n",
       "        text-align: right;\n",
       "    }\n",
       "</style>\n",
       "<table border=\"1\" class=\"dataframe\">\n",
       "  <thead>\n",
       "    <tr style=\"text-align: right;\">\n",
       "      <th></th>\n",
       "      <th>id</th>\n",
       "      <th>link</th>\n",
       "      <th>content</th>\n",
       "      <th>date</th>\n",
       "      <th>retweets</th>\n",
       "      <th>favorites</th>\n",
       "      <th>mentions</th>\n",
       "      <th>hashtags</th>\n",
       "      <th>geo</th>\n",
       "    </tr>\n",
       "  </thead>\n",
       "  <tbody>\n",
       "    <tr>\n",
       "      <th>27172</th>\n",
       "      <td>682700657304989697</td>\n",
       "      <td>https://twitter.com/realDonaldTrump/status/682...</td>\n",
       "      <td>Do you believe that The State Department, on N...</td>\n",
       "      <td>2016-01-01 00:11:35</td>\n",
       "      <td>2379</td>\n",
       "      <td>5904</td>\n",
       "      <td>NaN</td>\n",
       "      <td>NaN</td>\n",
       "      <td>NaN</td>\n",
       "    </tr>\n",
       "    <tr>\n",
       "      <th>27173</th>\n",
       "      <td>682703233492619264</td>\n",
       "      <td>https://twitter.com/realDonaldTrump/status/682...</td>\n",
       "      <td>I would like to wish everyone A HAPPY AND HEAL...</td>\n",
       "      <td>2016-01-01 00:21:49</td>\n",
       "      <td>5969</td>\n",
       "      <td>14936</td>\n",
       "      <td>NaN</td>\n",
       "      <td>NaN</td>\n",
       "      <td>NaN</td>\n",
       "    </tr>\n",
       "    <tr>\n",
       "      <th>27174</th>\n",
       "      <td>682723973449289728</td>\n",
       "      <td>https://twitter.com/realDonaldTrump/status/682...</td>\n",
       "      <td>I will be on @ FoxNews live, with members of m...</td>\n",
       "      <td>2016-01-01 01:44:14</td>\n",
       "      <td>1776</td>\n",
       "      <td>5742</td>\n",
       "      <td>@</td>\n",
       "      <td>NaN</td>\n",
       "      <td>NaN</td>\n",
       "    </tr>\n",
       "    <tr>\n",
       "      <th>27175</th>\n",
       "      <td>682764544402440192</td>\n",
       "      <td>https://twitter.com/realDonaldTrump/status/682...</td>\n",
       "      <td>HAPPY NEW YEAR &amp; THANK YOU! https://www.facebo...</td>\n",
       "      <td>2016-01-01 04:25:27</td>\n",
       "      <td>2887</td>\n",
       "      <td>7363</td>\n",
       "      <td>NaN</td>\n",
       "      <td>NaN</td>\n",
       "      <td>NaN</td>\n",
       "    </tr>\n",
       "    <tr>\n",
       "      <th>27176</th>\n",
       "      <td>682792967736848385</td>\n",
       "      <td>https://twitter.com/realDonaldTrump/status/682...</td>\n",
       "      <td># HappyNewYearAmerica!pic.twitter.com/EeQb8PDrUe</td>\n",
       "      <td>2016-01-01 06:18:23</td>\n",
       "      <td>2882</td>\n",
       "      <td>7839</td>\n",
       "      <td>NaN</td>\n",
       "      <td>#</td>\n",
       "      <td>NaN</td>\n",
       "    </tr>\n",
       "    <tr>\n",
       "      <th>...</th>\n",
       "      <td>...</td>\n",
       "      <td>...</td>\n",
       "      <td>...</td>\n",
       "      <td>...</td>\n",
       "      <td>...</td>\n",
       "      <td>...</td>\n",
       "      <td>...</td>\n",
       "      <td>...</td>\n",
       "      <td>...</td>\n",
       "    </tr>\n",
       "    <tr>\n",
       "      <th>31113</th>\n",
       "      <td>814110460761018368</td>\n",
       "      <td>https://twitter.com/realDonaldTrump/status/814...</td>\n",
       "      <td>Doing my best to disregard the many inflammato...</td>\n",
       "      <td>2016-12-28 15:07:13</td>\n",
       "      <td>26563</td>\n",
       "      <td>102340</td>\n",
       "      <td>NaN</td>\n",
       "      <td>NaN</td>\n",
       "      <td>NaN</td>\n",
       "    </tr>\n",
       "    <tr>\n",
       "      <th>31114</th>\n",
       "      <td>814113616110751744</td>\n",
       "      <td>https://twitter.com/realDonaldTrump/status/814...</td>\n",
       "      <td>We cannot continue to let Israel be treated wi...</td>\n",
       "      <td>2016-12-28 15:19:46</td>\n",
       "      <td>25433</td>\n",
       "      <td>93467</td>\n",
       "      <td>NaN</td>\n",
       "      <td>NaN</td>\n",
       "      <td>NaN</td>\n",
       "    </tr>\n",
       "    <tr>\n",
       "      <th>31115</th>\n",
       "      <td>814114980983427073</td>\n",
       "      <td>https://twitter.com/realDonaldTrump/status/814...</td>\n",
       "      <td>not anymore. The beginning of the end was the ...</td>\n",
       "      <td>2016-12-28 15:25:11</td>\n",
       "      <td>29033</td>\n",
       "      <td>102879</td>\n",
       "      <td>NaN</td>\n",
       "      <td>NaN</td>\n",
       "      <td>NaN</td>\n",
       "    </tr>\n",
       "    <tr>\n",
       "      <th>31116</th>\n",
       "      <td>814231064847728640</td>\n",
       "      <td>https://twitter.com/realDonaldTrump/status/814...</td>\n",
       "      <td>'Economists say Trump delivered hope'http://ww...</td>\n",
       "      <td>2016-12-28 23:06:28</td>\n",
       "      <td>11674</td>\n",
       "      <td>44791</td>\n",
       "      <td>NaN</td>\n",
       "      <td>NaN</td>\n",
       "      <td>NaN</td>\n",
       "    </tr>\n",
       "    <tr>\n",
       "      <th>31117</th>\n",
       "      <td>814484710025994241</td>\n",
       "      <td>https://twitter.com/realDonaldTrump/status/814...</td>\n",
       "      <td>My Administration will follow two simple rules...</td>\n",
       "      <td>2016-12-29 15:54:21</td>\n",
       "      <td>9469</td>\n",
       "      <td>39306</td>\n",
       "      <td>NaN</td>\n",
       "      <td>NaN</td>\n",
       "      <td>NaN</td>\n",
       "    </tr>\n",
       "  </tbody>\n",
       "</table>\n",
       "<p>3946 rows × 9 columns</p>\n",
       "</div>"
      ],
      "text/plain": [
       "                       id                                               link  \\\n",
       "27172  682700657304989697  https://twitter.com/realDonaldTrump/status/682...   \n",
       "27173  682703233492619264  https://twitter.com/realDonaldTrump/status/682...   \n",
       "27174  682723973449289728  https://twitter.com/realDonaldTrump/status/682...   \n",
       "27175  682764544402440192  https://twitter.com/realDonaldTrump/status/682...   \n",
       "27176  682792967736848385  https://twitter.com/realDonaldTrump/status/682...   \n",
       "...                   ...                                                ...   \n",
       "31113  814110460761018368  https://twitter.com/realDonaldTrump/status/814...   \n",
       "31114  814113616110751744  https://twitter.com/realDonaldTrump/status/814...   \n",
       "31115  814114980983427073  https://twitter.com/realDonaldTrump/status/814...   \n",
       "31116  814231064847728640  https://twitter.com/realDonaldTrump/status/814...   \n",
       "31117  814484710025994241  https://twitter.com/realDonaldTrump/status/814...   \n",
       "\n",
       "                                                 content                 date  \\\n",
       "27172  Do you believe that The State Department, on N...  2016-01-01 00:11:35   \n",
       "27173  I would like to wish everyone A HAPPY AND HEAL...  2016-01-01 00:21:49   \n",
       "27174  I will be on @ FoxNews live, with members of m...  2016-01-01 01:44:14   \n",
       "27175  HAPPY NEW YEAR & THANK YOU! https://www.facebo...  2016-01-01 04:25:27   \n",
       "27176   # HappyNewYearAmerica!pic.twitter.com/EeQb8PDrUe  2016-01-01 06:18:23   \n",
       "...                                                  ...                  ...   \n",
       "31113  Doing my best to disregard the many inflammato...  2016-12-28 15:07:13   \n",
       "31114  We cannot continue to let Israel be treated wi...  2016-12-28 15:19:46   \n",
       "31115  not anymore. The beginning of the end was the ...  2016-12-28 15:25:11   \n",
       "31116  'Economists say Trump delivered hope'http://ww...  2016-12-28 23:06:28   \n",
       "31117  My Administration will follow two simple rules...  2016-12-29 15:54:21   \n",
       "\n",
       "       retweets  favorites mentions hashtags  geo  \n",
       "27172      2379       5904      NaN      NaN  NaN  \n",
       "27173      5969      14936      NaN      NaN  NaN  \n",
       "27174      1776       5742        @      NaN  NaN  \n",
       "27175      2887       7363      NaN      NaN  NaN  \n",
       "27176      2882       7839      NaN        #  NaN  \n",
       "...         ...        ...      ...      ...  ...  \n",
       "31113     26563     102340      NaN      NaN  NaN  \n",
       "31114     25433      93467      NaN      NaN  NaN  \n",
       "31115     29033     102879      NaN      NaN  NaN  \n",
       "31116     11674      44791      NaN      NaN  NaN  \n",
       "31117      9469      39306      NaN      NaN  NaN  \n",
       "\n",
       "[3946 rows x 9 columns]"
      ]
     },
     "execution_count": 96,
     "metadata": {},
     "output_type": "execute_result"
    }
   ],
   "source": [
    "\n",
    "twtElection = twt.loc[(twt['date'] >= '2016-01-01') & (twt['date'] <= '2016-12-30' )]  \n",
    "twtElection ## displaying twtElection"
   ]
  },
  {
   "cell_type": "code",
   "execution_count": 97,
   "metadata": {},
   "outputs": [
    {
     "name": "stderr",
     "output_type": "stream",
     "text": [
      "C:\\Users\\xt\\anaconda3\\lib\\site-packages\\ipykernel_launcher.py:2: SettingWithCopyWarning: \n",
      "A value is trying to be set on a copy of a slice from a DataFrame.\n",
      "Try using .loc[row_indexer,col_indexer] = value instead\n",
      "\n",
      "See the caveats in the documentation: https://pandas.pydata.org/pandas-docs/stable/user_guide/indexing.html#returning-a-view-versus-a-copy\n",
      "  \n"
     ]
    }
   ],
   "source": [
    "# convert Date to \"datetime\"\n",
    "twtElection['date'] = pd.to_datetime(twtElection.date)\n",
    "#twtElection['date']"
   ]
  },
  {
   "cell_type": "code",
   "execution_count": 98,
   "metadata": {},
   "outputs": [
    {
     "data": {
      "text/plain": [
       "5"
      ]
     },
     "execution_count": 98,
     "metadata": {},
     "output_type": "execute_result"
    }
   ],
   "source": [
    "# selecting only the most relavent columns for our analysis\n",
    "selectedColumns = [\n",
    "     # tweet information:\n",
    "     'link',\n",
    "     'content',\n",
    "     'date',\n",
    "    # tweet stats:\n",
    "    'favorites',\n",
    "    'retweets'\n",
    "]\n",
    "len(selectedColumns)"
   ]
  },
  {
   "cell_type": "markdown",
   "metadata": {},
   "source": [
    "## Copying the selected columns to another variable, so that we can manipulate the data without affecting the main data"
   ]
  },
  {
   "cell_type": "code",
   "execution_count": 99,
   "metadata": {},
   "outputs": [
    {
     "name": "stdout",
     "output_type": "stream",
     "text": [
      "<class 'pandas.core.frame.DataFrame'>\n",
      "Int64Index: 3946 entries, 27172 to 31117\n",
      "Data columns (total 5 columns):\n",
      " #   Column     Non-Null Count  Dtype         \n",
      "---  ------     --------------  -----         \n",
      " 0   link       3946 non-null   object        \n",
      " 1   content    3946 non-null   object        \n",
      " 2   date       3946 non-null   datetime64[ns]\n",
      " 3   favorites  3946 non-null   int64         \n",
      " 4   retweets   3946 non-null   int64         \n",
      "dtypes: datetime64[ns](1), int64(2), object(2)\n",
      "memory usage: 185.0+ KB\n"
     ]
    }
   ],
   "source": [
    "\n",
    "twtElection_copy = twtElection[selectedColumns].copy()\n",
    "twtElection_copy.info()"
   ]
  },
  {
   "cell_type": "code",
   "execution_count": 100,
   "metadata": {},
   "outputs": [
    {
     "data": {
      "text/plain": [
       "link         0\n",
       "content      0\n",
       "date         0\n",
       "favorites    0\n",
       "retweets     0\n",
       "dtype: int64"
      ]
     },
     "execution_count": 100,
     "metadata": {},
     "output_type": "execute_result"
    }
   ],
   "source": [
    "twtElection_copy.isna().sum()"
   ]
  },
  {
   "cell_type": "code",
   "execution_count": 101,
   "metadata": {},
   "outputs": [
    {
     "name": "stdout",
     "output_type": "stream",
     "text": [
      "Requirement already satisfied: missingno in c:\\users\\xt\\anaconda3\\lib\\site-packages (0.4.2)\n",
      "Requirement already satisfied: matplotlib in c:\\users\\xt\\anaconda3\\lib\\site-packages (from missingno) (3.1.3)\n",
      "Requirement already satisfied: seaborn in c:\\users\\xt\\anaconda3\\lib\\site-packages (from missingno) (0.10.0)\n",
      "Requirement already satisfied: scipy in c:\\users\\xt\\anaconda3\\lib\\site-packages (from missingno) (1.4.1)\n",
      "Requirement already satisfied: numpy in c:\\users\\xt\\anaconda3\\lib\\site-packages (from missingno) (1.18.1)\n",
      "Requirement already satisfied: python-dateutil>=2.1 in c:\\users\\xt\\anaconda3\\lib\\site-packages (from matplotlib->missingno) (2.8.1)\n",
      "Requirement already satisfied: cycler>=0.10 in c:\\users\\xt\\anaconda3\\lib\\site-packages (from matplotlib->missingno) (0.10.0)\n",
      "Requirement already satisfied: kiwisolver>=1.0.1 in c:\\users\\xt\\anaconda3\\lib\\site-packages (from matplotlib->missingno) (1.1.0)\n",
      "Requirement already satisfied: pyparsing!=2.0.4,!=2.1.2,!=2.1.6,>=2.0.1 in c:\\users\\xt\\anaconda3\\lib\\site-packages (from matplotlib->missingno) (2.4.6)\n",
      "Requirement already satisfied: pandas>=0.22.0 in c:\\users\\xt\\anaconda3\\lib\\site-packages (from seaborn->missingno) (1.0.1)\n",
      "Requirement already satisfied: six>=1.5 in c:\\users\\xt\\anaconda3\\lib\\site-packages (from python-dateutil>=2.1->matplotlib->missingno) (1.14.0)\n",
      "Requirement already satisfied: setuptools in c:\\users\\xt\\anaconda3\\lib\\site-packages (from kiwisolver>=1.0.1->matplotlib->missingno) (45.2.0.post20200210)\n",
      "Requirement already satisfied: pytz>=2017.2 in c:\\users\\xt\\anaconda3\\lib\\site-packages (from pandas>=0.22.0->seaborn->missingno) (2019.3)\n"
     ]
    }
   ],
   "source": [
    "!pip install missingno"
   ]
  },
  {
   "cell_type": "code",
   "execution_count": 102,
   "metadata": {},
   "outputs": [
    {
     "data": {
      "text/plain": [
       "link         0\n",
       "content      0\n",
       "date         0\n",
       "favorites    0\n",
       "retweets     0\n",
       "dtype: int64"
      ]
     },
     "execution_count": 102,
     "metadata": {},
     "output_type": "execute_result"
    }
   ],
   "source": [
    "twtElection_copy.isnull().sum()"
   ]
  },
  {
   "cell_type": "code",
   "execution_count": 103,
   "metadata": {},
   "outputs": [],
   "source": [
    "import missingno as msno"
   ]
  },
  {
   "cell_type": "code",
   "execution_count": 104,
   "metadata": {},
   "outputs": [],
   "source": [
    "#Clearing null values\n",
    "twtElection_copy = twtElection_copy.fillna(\" \")\n"
   ]
  },
  {
   "cell_type": "code",
   "execution_count": 105,
   "metadata": {},
   "outputs": [
    {
     "data": {
      "text/plain": [
       "link         0\n",
       "content      0\n",
       "date         0\n",
       "favorites    0\n",
       "retweets     0\n",
       "dtype: int64"
      ]
     },
     "execution_count": 105,
     "metadata": {},
     "output_type": "execute_result"
    }
   ],
   "source": [
    "twtElection_copy.isnull().sum()"
   ]
  },
  {
   "cell_type": "code",
   "execution_count": 106,
   "metadata": {},
   "outputs": [
    {
     "data": {
      "text/html": [
       "<div>\n",
       "<style scoped>\n",
       "    .dataframe tbody tr th:only-of-type {\n",
       "        vertical-align: middle;\n",
       "    }\n",
       "\n",
       "    .dataframe tbody tr th {\n",
       "        vertical-align: top;\n",
       "    }\n",
       "\n",
       "    .dataframe thead th {\n",
       "        text-align: right;\n",
       "    }\n",
       "</style>\n",
       "<table border=\"1\" class=\"dataframe\">\n",
       "  <thead>\n",
       "    <tr style=\"text-align: right;\">\n",
       "      <th></th>\n",
       "      <th>favorites</th>\n",
       "      <th>retweets</th>\n",
       "    </tr>\n",
       "  </thead>\n",
       "  <tbody>\n",
       "    <tr>\n",
       "      <th>count</th>\n",
       "      <td>3946.000000</td>\n",
       "      <td>3946.000000</td>\n",
       "    </tr>\n",
       "    <tr>\n",
       "      <th>mean</th>\n",
       "      <td>19093.659149</td>\n",
       "      <td>6584.226305</td>\n",
       "    </tr>\n",
       "    <tr>\n",
       "      <th>std</th>\n",
       "      <td>23152.827310</td>\n",
       "      <td>8639.298786</td>\n",
       "    </tr>\n",
       "    <tr>\n",
       "      <th>min</th>\n",
       "      <td>1498.000000</td>\n",
       "      <td>488.000000</td>\n",
       "    </tr>\n",
       "    <tr>\n",
       "      <th>25%</th>\n",
       "      <td>7843.750000</td>\n",
       "      <td>2600.000000</td>\n",
       "    </tr>\n",
       "    <tr>\n",
       "      <th>50%</th>\n",
       "      <td>13567.000000</td>\n",
       "      <td>4682.000000</td>\n",
       "    </tr>\n",
       "    <tr>\n",
       "      <th>75%</th>\n",
       "      <td>22451.750000</td>\n",
       "      <td>8044.750000</td>\n",
       "    </tr>\n",
       "    <tr>\n",
       "      <th>max</th>\n",
       "      <td>564352.000000</td>\n",
       "      <td>295817.000000</td>\n",
       "    </tr>\n",
       "  </tbody>\n",
       "</table>\n",
       "</div>"
      ],
      "text/plain": [
       "           favorites       retweets\n",
       "count    3946.000000    3946.000000\n",
       "mean    19093.659149    6584.226305\n",
       "std     23152.827310    8639.298786\n",
       "min      1498.000000     488.000000\n",
       "25%      7843.750000    2600.000000\n",
       "50%     13567.000000    4682.000000\n",
       "75%     22451.750000    8044.750000\n",
       "max    564352.000000  295817.000000"
      ]
     },
     "execution_count": 106,
     "metadata": {},
     "output_type": "execute_result"
    }
   ],
   "source": [
    "# checking basic details about data; like mean,median, mode etc\n",
    "twtElection_copy.describe()"
   ]
  },
  {
   "cell_type": "code",
   "execution_count": 107,
   "metadata": {},
   "outputs": [
    {
     "name": "stdout",
     "output_type": "stream",
     "text": [
      "                                                    link  \\\n",
      "27172  https://twitter.com/realDonaldTrump/status/682...   \n",
      "27173  https://twitter.com/realDonaldTrump/status/682...   \n",
      "27174  https://twitter.com/realDonaldTrump/status/682...   \n",
      "27175  https://twitter.com/realDonaldTrump/status/682...   \n",
      "27176  https://twitter.com/realDonaldTrump/status/682...   \n",
      "...                                                  ...   \n",
      "31113  https://twitter.com/realDonaldTrump/status/814...   \n",
      "31114  https://twitter.com/realDonaldTrump/status/814...   \n",
      "31115  https://twitter.com/realDonaldTrump/status/814...   \n",
      "31116  https://twitter.com/realDonaldTrump/status/814...   \n",
      "31117  https://twitter.com/realDonaldTrump/status/814...   \n",
      "\n",
      "                                                 content                date  \\\n",
      "27172  Do you believe that The State Department, on N... 2016-01-01 00:11:35   \n",
      "27173  I would like to wish everyone A HAPPY AND HEAL... 2016-01-01 00:21:49   \n",
      "27174  I will be on @ FoxNews live, with members of m... 2016-01-01 01:44:14   \n",
      "27175  HAPPY NEW YEAR & THANK YOU! https://www.facebo... 2016-01-01 04:25:27   \n",
      "27176   # HappyNewYearAmerica!pic.twitter.com/EeQb8PDrUe 2016-01-01 06:18:23   \n",
      "...                                                  ...                 ...   \n",
      "31113  Doing my best to disregard the many inflammato... 2016-12-28 15:07:13   \n",
      "31114  We cannot continue to let Israel be treated wi... 2016-12-28 15:19:46   \n",
      "31115  not anymore. The beginning of the end was the ... 2016-12-28 15:25:11   \n",
      "31116  'Economists say Trump delivered hope'http://ww... 2016-12-28 23:06:28   \n",
      "31117  My Administration will follow two simple rules... 2016-12-29 15:54:21   \n",
      "\n",
      "       favorites  retweets  month  \n",
      "27172       5904      2379      1  \n",
      "27173      14936      5969      1  \n",
      "27174       5742      1776      1  \n",
      "27175       7363      2887      1  \n",
      "27176       7839      2882      1  \n",
      "...          ...       ...    ...  \n",
      "31113     102340     26563     12  \n",
      "31114      93467     25433     12  \n",
      "31115     102879     29033     12  \n",
      "31116      44791     11674     12  \n",
      "31117      39306      9469     12  \n",
      "\n",
      "[3946 rows x 6 columns]\n"
     ]
    }
   ],
   "source": [
    "# extratcting months from date column \n",
    "twtElection_copy['month'] = pd.DatetimeIndex(twtElection.date).month\n",
    "print(twtElection_copy)"
   ]
  },
  {
   "cell_type": "code",
   "execution_count": 108,
   "metadata": {},
   "outputs": [
    {
     "name": "stdout",
     "output_type": "stream",
     "text": [
      "<class 'pandas.core.frame.DataFrame'>\n",
      "Int64Index: 3946 entries, 27172 to 31117\n",
      "Data columns (total 6 columns):\n",
      " #   Column     Non-Null Count  Dtype         \n",
      "---  ------     --------------  -----         \n",
      " 0   link       3946 non-null   object        \n",
      " 1   content    3946 non-null   object        \n",
      " 2   date       3946 non-null   datetime64[ns]\n",
      " 3   favorites  3946 non-null   int64         \n",
      " 4   retweets   3946 non-null   int64         \n",
      " 5   month      3946 non-null   int64         \n",
      "dtypes: datetime64[ns](1), int64(3), object(2)\n",
      "memory usage: 215.8+ KB\n"
     ]
    }
   ],
   "source": [
    "twtElection_copy.info()"
   ]
  },
  {
   "cell_type": "markdown",
   "metadata": {},
   "source": [
    "## Exploratory Analysis and Visualization\n",
    "\n",
    "### In this phase of analysis, i gradually begin to disect the information given and visualize some aspects of it.\n",
    "\n",
    "#### For analysis, i have chosen the time frame of the US General Elections, from January 01, 2016 leading up to the election ( November 8, 2016).\n",
    "\n",
    "#### I am going to analyse what Trump's main subjects of tweets were leading up to the election, and other notable trends, if any. "
   ]
  },
  {
   "cell_type": "code",
   "execution_count": 109,
   "metadata": {},
   "outputs": [],
   "source": [
    "import seaborn as sns\n",
    "import matplotlib\n",
    "import matplotlib.pyplot as plt\n",
    "%matplotlib inline\n",
    "\n",
    "sns.set_style('darkgrid')\n",
    "matplotlib.rcParams['font.size'] = 15\n",
    "matplotlib.rcParams['figure.figsize'] = (25,10)\n",
    "matplotlib.rcParams['figure.facecolor'] = '#00000000'"
   ]
  },
  {
   "cell_type": "code",
   "execution_count": 110,
   "metadata": {},
   "outputs": [
    {
     "data": {
      "text/plain": [
       "<bound method DataFrame.info of        favorites  retweets\n",
       "month                     \n",
       "1        2431582    884103\n",
       "2        3515352   1311732\n",
       "3        5608250   1943352\n",
       "4        3254424   1126360\n",
       "5        4576271   1570995\n",
       "6        5010794   1799724\n",
       "7        8986200   2974188\n",
       "8        5851707   2039440\n",
       "9        6086553   2176221\n",
       "10      11234094   4853499\n",
       "11      11415714   3479501\n",
       "12       7372638   1822242>"
      ]
     },
     "execution_count": 110,
     "metadata": {},
     "output_type": "execute_result"
    }
   ],
   "source": [
    "#grouping the amount of favorites & retweets by months\n",
    "twtElection_monthly = twtElection_copy.groupby('month')[['content','favorites','retweets']].sum()\n",
    "twtElection_monthly.info"
   ]
  },
  {
   "cell_type": "code",
   "execution_count": 111,
   "metadata": {},
   "outputs": [
    {
     "data": {
      "text/html": [
       "<div>\n",
       "<style scoped>\n",
       "    .dataframe tbody tr th:only-of-type {\n",
       "        vertical-align: middle;\n",
       "    }\n",
       "\n",
       "    .dataframe tbody tr th {\n",
       "        vertical-align: top;\n",
       "    }\n",
       "\n",
       "    .dataframe thead th {\n",
       "        text-align: right;\n",
       "    }\n",
       "</style>\n",
       "<table border=\"1\" class=\"dataframe\">\n",
       "  <thead>\n",
       "    <tr style=\"text-align: right;\">\n",
       "      <th></th>\n",
       "      <th>favorites</th>\n",
       "      <th>retweets</th>\n",
       "    </tr>\n",
       "    <tr>\n",
       "      <th>month</th>\n",
       "      <th></th>\n",
       "      <th></th>\n",
       "    </tr>\n",
       "  </thead>\n",
       "  <tbody>\n",
       "    <tr>\n",
       "      <th>1</th>\n",
       "      <td>2431582</td>\n",
       "      <td>884103</td>\n",
       "    </tr>\n",
       "    <tr>\n",
       "      <th>2</th>\n",
       "      <td>3515352</td>\n",
       "      <td>1311732</td>\n",
       "    </tr>\n",
       "    <tr>\n",
       "      <th>3</th>\n",
       "      <td>5608250</td>\n",
       "      <td>1943352</td>\n",
       "    </tr>\n",
       "    <tr>\n",
       "      <th>4</th>\n",
       "      <td>3254424</td>\n",
       "      <td>1126360</td>\n",
       "    </tr>\n",
       "    <tr>\n",
       "      <th>5</th>\n",
       "      <td>4576271</td>\n",
       "      <td>1570995</td>\n",
       "    </tr>\n",
       "    <tr>\n",
       "      <th>6</th>\n",
       "      <td>5010794</td>\n",
       "      <td>1799724</td>\n",
       "    </tr>\n",
       "    <tr>\n",
       "      <th>7</th>\n",
       "      <td>8986200</td>\n",
       "      <td>2974188</td>\n",
       "    </tr>\n",
       "    <tr>\n",
       "      <th>8</th>\n",
       "      <td>5851707</td>\n",
       "      <td>2039440</td>\n",
       "    </tr>\n",
       "    <tr>\n",
       "      <th>9</th>\n",
       "      <td>6086553</td>\n",
       "      <td>2176221</td>\n",
       "    </tr>\n",
       "    <tr>\n",
       "      <th>10</th>\n",
       "      <td>11234094</td>\n",
       "      <td>4853499</td>\n",
       "    </tr>\n",
       "    <tr>\n",
       "      <th>11</th>\n",
       "      <td>11415714</td>\n",
       "      <td>3479501</td>\n",
       "    </tr>\n",
       "    <tr>\n",
       "      <th>12</th>\n",
       "      <td>7372638</td>\n",
       "      <td>1822242</td>\n",
       "    </tr>\n",
       "  </tbody>\n",
       "</table>\n",
       "</div>"
      ],
      "text/plain": [
       "       favorites  retweets\n",
       "month                     \n",
       "1        2431582    884103\n",
       "2        3515352   1311732\n",
       "3        5608250   1943352\n",
       "4        3254424   1126360\n",
       "5        4576271   1570995\n",
       "6        5010794   1799724\n",
       "7        8986200   2974188\n",
       "8        5851707   2039440\n",
       "9        6086553   2176221\n",
       "10      11234094   4853499\n",
       "11      11415714   3479501\n",
       "12       7372638   1822242"
      ]
     },
     "execution_count": 111,
     "metadata": {},
     "output_type": "execute_result"
    }
   ],
   "source": [
    "twtElection_monthly"
   ]
  },
  {
   "cell_type": "markdown",
   "metadata": {},
   "source": [
    "# Frequency of retweets in the months approaching the Election:"
   ]
  },
  {
   "cell_type": "code",
   "execution_count": 112,
   "metadata": {},
   "outputs": [
    {
     "data": {
      "text/plain": [
       "[<matplotlib.lines.Line2D at 0x22450928788>]"
      ]
     },
     "execution_count": 112,
     "metadata": {},
     "output_type": "execute_result"
    },
    {
     "data": {
      "image/png": "[encoded data removed]",
      "text/plain": [
       "<Figure size 1800x720 with 1 Axes>"
      ]
     },
     "metadata": {
      "needs_background": "light"
     },
     "output_type": "display_data"
    }
   ],
   "source": [
    "\n",
    "#plt.figure(10,5)\n",
    "#plt.xlabel('Months')\n",
    "#plt.ylabel('Number of tweets')\n",
    "#m = twtElection['month']\n",
    "#plt.hist(twtElection.months,twtElection.favorites)\n",
    "#plt.hist((twtElection.date ) ,twtElection.retweets)\n",
    "plt.xlabel('Months')\n",
    "plt.ylabel('retweets')\n",
    "plt.title(\"  Frequency of retweets as the Elections approached  \");\n",
    "#plt.hist(twtElection.date, twtElection.retweets,bins = 10,  color='purple');\n",
    "plt.plot(twtElection_monthly.index,twtElection_monthly.retweets ,color='purple',marker='o')"
   ]
  },
  {
   "cell_type": "markdown",
   "metadata": {},
   "source": [
    "# Frequency of favorite tweets in the months approaching the Election:"
   ]
  },
  {
   "cell_type": "code",
   "execution_count": 113,
   "metadata": {},
   "outputs": [
    {
     "data": {
      "text/plain": [
       "[<matplotlib.lines.Line2D at 0x22450e93888>]"
      ]
     },
     "execution_count": 113,
     "metadata": {},
     "output_type": "execute_result"
    },
    {
     "data": {
      "image/png": "[encoded data removed]",
      "text/plain": [
       "<Figure size 1800x720 with 1 Axes>"
      ]
     },
     "metadata": {
      "needs_background": "light"
     },
     "output_type": "display_data"
    }
   ],
   "source": [
    "\n",
    "plt.xlabel('Months')\n",
    "plt.ylabel('favorites')\n",
    "plt.title(\"  Frequency of favorites as the Elections approached  \")\n",
    "#plt.hist(twtElection.date, twtElection.favorites,bins = 10,  color='purple');\n",
    "plt.plot(twtElection_monthly.index,twtElection_monthly.favorites ,color='purple',marker='o')"
   ]
  },
  {
   "cell_type": "markdown",
   "metadata": {},
   "source": [
    "# Finding frequency of Trumps tweets on a monthly basis:"
   ]
  },
  {
   "cell_type": "code",
   "execution_count": 114,
   "metadata": {},
   "outputs": [
    {
     "data": {
      "text/html": [
       "<div>\n",
       "<style scoped>\n",
       "    .dataframe tbody tr th:only-of-type {\n",
       "        vertical-align: middle;\n",
       "    }\n",
       "\n",
       "    .dataframe tbody tr th {\n",
       "        vertical-align: top;\n",
       "    }\n",
       "\n",
       "    .dataframe thead th {\n",
       "        text-align: right;\n",
       "    }\n",
       "</style>\n",
       "<table border=\"1\" class=\"dataframe\">\n",
       "  <thead>\n",
       "    <tr style=\"text-align: right;\">\n",
       "      <th></th>\n",
       "      <th>content</th>\n",
       "    </tr>\n",
       "    <tr>\n",
       "      <th>month</th>\n",
       "      <th></th>\n",
       "    </tr>\n",
       "  </thead>\n",
       "  <tbody>\n",
       "    <tr>\n",
       "      <th>1</th>\n",
       "      <td>481</td>\n",
       "    </tr>\n",
       "    <tr>\n",
       "      <th>2</th>\n",
       "      <td>470</td>\n",
       "    </tr>\n",
       "    <tr>\n",
       "      <th>3</th>\n",
       "      <td>413</td>\n",
       "    </tr>\n",
       "    <tr>\n",
       "      <th>4</th>\n",
       "      <td>274</td>\n",
       "    </tr>\n",
       "    <tr>\n",
       "      <th>5</th>\n",
       "      <td>340</td>\n",
       "    </tr>\n",
       "    <tr>\n",
       "      <th>6</th>\n",
       "      <td>293</td>\n",
       "    </tr>\n",
       "    <tr>\n",
       "      <th>7</th>\n",
       "      <td>354</td>\n",
       "    </tr>\n",
       "    <tr>\n",
       "      <th>8</th>\n",
       "      <td>268</td>\n",
       "    </tr>\n",
       "    <tr>\n",
       "      <th>9</th>\n",
       "      <td>271</td>\n",
       "    </tr>\n",
       "    <tr>\n",
       "      <th>10</th>\n",
       "      <td>471</td>\n",
       "    </tr>\n",
       "    <tr>\n",
       "      <th>11</th>\n",
       "      <td>179</td>\n",
       "    </tr>\n",
       "    <tr>\n",
       "      <th>12</th>\n",
       "      <td>126</td>\n",
       "    </tr>\n",
       "  </tbody>\n",
       "</table>\n",
       "</div>"
      ],
      "text/plain": [
       "       content\n",
       "month         \n",
       "1          481\n",
       "2          470\n",
       "3          413\n",
       "4          274\n",
       "5          340\n",
       "6          293\n",
       "7          354\n",
       "8          268\n",
       "9          271\n",
       "10         471\n",
       "11         179\n",
       "12         126"
      ]
     },
     "execution_count": 114,
     "metadata": {},
     "output_type": "execute_result"
    }
   ],
   "source": [
    "numElectionTwts = twtElection.content.nunique()\n",
    "#checking number of tweets in a single month\n",
    "numElectionTwts_monthly = twtElection_copy.groupby('month')[['content']].nunique()\n",
    "#displaying total number of tweets tweeted per month:\n",
    "numElectionTwts_monthly"
   ]
  },
  {
   "cell_type": "code",
   "execution_count": 115,
   "metadata": {},
   "outputs": [
    {
     "data": {
      "text/plain": [
       "[<matplotlib.lines.Line2D at 0x22450d58788>]"
      ]
     },
     "execution_count": 115,
     "metadata": {},
     "output_type": "execute_result"
    },
    {
     "data": {
      "image/png": "[encoded data removed]",
      "text/plain": [
       "<Figure size 1800x720 with 1 Axes>"
      ]
     },
     "metadata": {
      "needs_background": "light"
     },
     "output_type": "display_data"
    }
   ],
   "source": [
    "#graphical representation of Trumps tweets on a monthly basis:\n",
    "plt.xlabel('Months')\n",
    "plt.ylabel('Tweets')\n",
    "plt.title(\"Frequency of Trump's tweets/month\")\n",
    "plt.plot(numElectionTwts_monthly.index,numElectionTwts_monthly,color = 'purple',marker='o')"
   ]
  },
  {
   "cell_type": "code",
   "execution_count": 116,
   "metadata": {},
   "outputs": [
    {
     "data": {
      "text/plain": [
       "<matplotlib.collections.PathCollection at 0x22450d8d308>"
      ]
     },
     "execution_count": 116,
     "metadata": {},
     "output_type": "execute_result"
    },
    {
     "data": {
      "image/png": "[encoded data removed]",
      "text/plain": [
       "<Figure size 1800x720 with 1 Axes>"
      ]
     },
     "metadata": {
      "needs_background": "light"
     },
     "output_type": "display_data"
    }
   ],
   "source": [
    "plt.title(\"Frequency of Trump's tweets/month\")\n",
    "plt.xlabel(\"Months\")\n",
    "plt.ylabel(\"Frequency of tweets\")\n",
    "\n",
    "plt.scatter(twtElection_monthly.index,numElectionTwts_monthly, color=\"purple\",marker=\"1\", s=500)"
   ]
  },
  {
   "cell_type": "code",
   "execution_count": 117,
   "metadata": {},
   "outputs": [
    {
     "data": {
      "application/javascript": [
       "window.require && require([\"base/js/namespace\"],function(Jupyter){Jupyter.notebook.save_checkpoint()})"
      ],
      "text/plain": [
       "<IPython.core.display.Javascript object>"
      ]
     },
     "metadata": {},
     "output_type": "display_data"
    },
    {
     "name": "stdout",
     "output_type": "stream",
     "text": [
      "[jovian] Attempting to save notebook..\n",
      "[jovian] Updating notebook \"saadberry29/donald-j-trump-a-twitter-analysis\" on https://jovian.ml/\n",
      "[jovian] Uploading notebook..\n",
      "[jovian] Capturing environment..\n",
      "[jovian] Committed successfully! https://jovian.ml/saadberry29/donald-j-trump-a-twitter-analysis\n"
     ]
    },
    {
     "data": {
      "text/plain": [
       "'https://jovian.ml/saadberry29/donald-j-trump-a-twitter-analysis'"
      ]
     },
     "execution_count": 117,
     "metadata": {},
     "output_type": "execute_result"
    }
   ],
   "source": [
    "jovian.commit()"
   ]
  },
  {
   "cell_type": "markdown",
   "metadata": {},
   "source": [
    "## Asking and Answering Questions\n",
    "\n",
    "### In this phase of analysis i ask some statistical questions and try to answer them."
   ]
  },
  {
   "cell_type": "markdown",
   "metadata": {},
   "source": [
    "### ( Q1 ) - How many tweets did Trump tweet leading up to the Election ?"
   ]
  },
  {
   "cell_type": "code",
   "execution_count": 118,
   "metadata": {},
   "outputs": [
    {
     "name": "stdout",
     "output_type": "stream",
     "text": [
      "Trump tweeted 3938 times in the year 2016\n"
     ]
    }
   ],
   "source": [
    "twtElection_copy.content.nunique()\n",
    "print(\"Trump tweeted \" + str(twtElection_copy.content.nunique()) + \" times in the year 2016\")"
   ]
  },
  {
   "cell_type": "markdown",
   "metadata": {},
   "source": [
    "### ( Q2 ) -Which tweets had more than 1000 favorites? "
   ]
  },
  {
   "cell_type": "code",
   "execution_count": 119,
   "metadata": {},
   "outputs": [
    {
     "data": {
      "text/plain": [
       "<bound method DataFrame.info of                        id                                               link  \\\n",
       "27172  682700657304989697  https://twitter.com/realDonaldTrump/status/682...   \n",
       "27173  682703233492619264  https://twitter.com/realDonaldTrump/status/682...   \n",
       "27174  682723973449289728  https://twitter.com/realDonaldTrump/status/682...   \n",
       "27175  682764544402440192  https://twitter.com/realDonaldTrump/status/682...   \n",
       "27176  682792967736848385  https://twitter.com/realDonaldTrump/status/682...   \n",
       "...                   ...                                                ...   \n",
       "31113  814110460761018368  https://twitter.com/realDonaldTrump/status/814...   \n",
       "31114  814113616110751744  https://twitter.com/realDonaldTrump/status/814...   \n",
       "31115  814114980983427073  https://twitter.com/realDonaldTrump/status/814...   \n",
       "31116  814231064847728640  https://twitter.com/realDonaldTrump/status/814...   \n",
       "31117  814484710025994241  https://twitter.com/realDonaldTrump/status/814...   \n",
       "\n",
       "                                                 content                date  \\\n",
       "27172  Do you believe that The State Department, on N... 2016-01-01 00:11:35   \n",
       "27173  I would like to wish everyone A HAPPY AND HEAL... 2016-01-01 00:21:49   \n",
       "27174  I will be on @ FoxNews live, with members of m... 2016-01-01 01:44:14   \n",
       "27175  HAPPY NEW YEAR & THANK YOU! https://www.facebo... 2016-01-01 04:25:27   \n",
       "27176   # HappyNewYearAmerica!pic.twitter.com/EeQb8PDrUe 2016-01-01 06:18:23   \n",
       "...                                                  ...                 ...   \n",
       "31113  Doing my best to disregard the many inflammato... 2016-12-28 15:07:13   \n",
       "31114  We cannot continue to let Israel be treated wi... 2016-12-28 15:19:46   \n",
       "31115  not anymore. The beginning of the end was the ... 2016-12-28 15:25:11   \n",
       "31116  'Economists say Trump delivered hope'http://ww... 2016-12-28 23:06:28   \n",
       "31117  My Administration will follow two simple rules... 2016-12-29 15:54:21   \n",
       "\n",
       "       retweets  favorites mentions hashtags  geo  \n",
       "27172      2379       5904      NaN      NaN  NaN  \n",
       "27173      5969      14936      NaN      NaN  NaN  \n",
       "27174      1776       5742        @      NaN  NaN  \n",
       "27175      2887       7363      NaN      NaN  NaN  \n",
       "27176      2882       7839      NaN        #  NaN  \n",
       "...         ...        ...      ...      ...  ...  \n",
       "31113     26563     102340      NaN      NaN  NaN  \n",
       "31114     25433      93467      NaN      NaN  NaN  \n",
       "31115     29033     102879      NaN      NaN  NaN  \n",
       "31116     11674      44791      NaN      NaN  NaN  \n",
       "31117      9469      39306      NaN      NaN  NaN  \n",
       "\n",
       "[3946 rows x 9 columns]>"
      ]
     },
     "execution_count": 119,
     "metadata": {},
     "output_type": "execute_result"
    }
   ],
   "source": [
    "favTwt = twtElection.favorites > 1000 \n",
    "twtElection[favTwt].info"
   ]
  },
  {
   "cell_type": "markdown",
   "metadata": {},
   "source": [
    "### ( Q3 ) - How many tweets had more than 1000 retweets? "
   ]
  },
  {
   "cell_type": "code",
   "execution_count": 120,
   "metadata": {},
   "outputs": [
    {
     "data": {
      "text/plain": [
       "<bound method DataFrame.info of                        id                                               link  \\\n",
       "27172  682700657304989697  https://twitter.com/realDonaldTrump/status/682...   \n",
       "27173  682703233492619264  https://twitter.com/realDonaldTrump/status/682...   \n",
       "27174  682723973449289728  https://twitter.com/realDonaldTrump/status/682...   \n",
       "27175  682764544402440192  https://twitter.com/realDonaldTrump/status/682...   \n",
       "27176  682792967736848385  https://twitter.com/realDonaldTrump/status/682...   \n",
       "...                   ...                                                ...   \n",
       "31113  814110460761018368  https://twitter.com/realDonaldTrump/status/814...   \n",
       "31114  814113616110751744  https://twitter.com/realDonaldTrump/status/814...   \n",
       "31115  814114980983427073  https://twitter.com/realDonaldTrump/status/814...   \n",
       "31116  814231064847728640  https://twitter.com/realDonaldTrump/status/814...   \n",
       "31117  814484710025994241  https://twitter.com/realDonaldTrump/status/814...   \n",
       "\n",
       "                                                 content                date  \\\n",
       "27172  Do you believe that The State Department, on N... 2016-01-01 00:11:35   \n",
       "27173  I would like to wish everyone A HAPPY AND HEAL... 2016-01-01 00:21:49   \n",
       "27174  I will be on @ FoxNews live, with members of m... 2016-01-01 01:44:14   \n",
       "27175  HAPPY NEW YEAR & THANK YOU! https://www.facebo... 2016-01-01 04:25:27   \n",
       "27176   # HappyNewYearAmerica!pic.twitter.com/EeQb8PDrUe 2016-01-01 06:18:23   \n",
       "...                                                  ...                 ...   \n",
       "31113  Doing my best to disregard the many inflammato... 2016-12-28 15:07:13   \n",
       "31114  We cannot continue to let Israel be treated wi... 2016-12-28 15:19:46   \n",
       "31115  not anymore. The beginning of the end was the ... 2016-12-28 15:25:11   \n",
       "31116  'Economists say Trump delivered hope'http://ww... 2016-12-28 23:06:28   \n",
       "31117  My Administration will follow two simple rules... 2016-12-29 15:54:21   \n",
       "\n",
       "       retweets  favorites mentions hashtags  geo  \n",
       "27172      2379       5904      NaN      NaN  NaN  \n",
       "27173      5969      14936      NaN      NaN  NaN  \n",
       "27174      1776       5742        @      NaN  NaN  \n",
       "27175      2887       7363      NaN      NaN  NaN  \n",
       "27176      2882       7839      NaN        #  NaN  \n",
       "...         ...        ...      ...      ...  ...  \n",
       "31113     26563     102340      NaN      NaN  NaN  \n",
       "31114     25433      93467      NaN      NaN  NaN  \n",
       "31115     29033     102879      NaN      NaN  NaN  \n",
       "31116     11674      44791      NaN      NaN  NaN  \n",
       "31117      9469      39306      NaN      NaN  NaN  \n",
       "\n",
       "[3783 rows x 9 columns]>"
      ]
     },
     "execution_count": 120,
     "metadata": {},
     "output_type": "execute_result"
    }
   ],
   "source": [
    "reTweet = twtElection.retweets > 1000\n",
    "twtElection[reTweet].info\n"
   ]
  },
  {
   "cell_type": "markdown",
   "metadata": {},
   "source": [
    "### ( Q4 ) - What is the ratio of favorites to retweets?"
   ]
  },
  {
   "cell_type": "code",
   "execution_count": 121,
   "metadata": {},
   "outputs": [
    {
     "data": {
      "text/plain": [
       "2.8999093080473046"
      ]
     },
     "execution_count": 121,
     "metadata": {},
     "output_type": "execute_result"
    }
   ],
   "source": [
    "ratio = ( twtElection.favorites.sum() ) / ( twtElection.retweets.sum() )\n",
    "ratio"
   ]
  },
  {
   "cell_type": "markdown",
   "metadata": {},
   "source": [
    "###  ( Q5 ) - Which tweets which had favorites and retweets > 1000 ?"
   ]
  },
  {
   "cell_type": "code",
   "execution_count": 122,
   "metadata": {},
   "outputs": [
    {
     "data": {
      "text/html": [
       "<div>\n",
       "<style scoped>\n",
       "    .dataframe tbody tr th:only-of-type {\n",
       "        vertical-align: middle;\n",
       "    }\n",
       "\n",
       "    .dataframe tbody tr th {\n",
       "        vertical-align: top;\n",
       "    }\n",
       "\n",
       "    .dataframe thead th {\n",
       "        text-align: right;\n",
       "    }\n",
       "</style>\n",
       "<table border=\"1\" class=\"dataframe\">\n",
       "  <thead>\n",
       "    <tr style=\"text-align: right;\">\n",
       "      <th></th>\n",
       "      <th>id</th>\n",
       "      <th>link</th>\n",
       "      <th>content</th>\n",
       "      <th>date</th>\n",
       "      <th>retweets</th>\n",
       "      <th>favorites</th>\n",
       "      <th>mentions</th>\n",
       "      <th>hashtags</th>\n",
       "      <th>geo</th>\n",
       "    </tr>\n",
       "  </thead>\n",
       "  <tbody>\n",
       "    <tr>\n",
       "      <th>27172</th>\n",
       "      <td>682700657304989697</td>\n",
       "      <td>https://twitter.com/realDonaldTrump/status/682...</td>\n",
       "      <td>Do you believe that The State Department, on N...</td>\n",
       "      <td>2016-01-01 00:11:35</td>\n",
       "      <td>2379</td>\n",
       "      <td>5904</td>\n",
       "      <td>NaN</td>\n",
       "      <td>NaN</td>\n",
       "      <td>NaN</td>\n",
       "    </tr>\n",
       "    <tr>\n",
       "      <th>27173</th>\n",
       "      <td>682703233492619264</td>\n",
       "      <td>https://twitter.com/realDonaldTrump/status/682...</td>\n",
       "      <td>I would like to wish everyone A HAPPY AND HEAL...</td>\n",
       "      <td>2016-01-01 00:21:49</td>\n",
       "      <td>5969</td>\n",
       "      <td>14936</td>\n",
       "      <td>NaN</td>\n",
       "      <td>NaN</td>\n",
       "      <td>NaN</td>\n",
       "    </tr>\n",
       "    <tr>\n",
       "      <th>27174</th>\n",
       "      <td>682723973449289728</td>\n",
       "      <td>https://twitter.com/realDonaldTrump/status/682...</td>\n",
       "      <td>I will be on @ FoxNews live, with members of m...</td>\n",
       "      <td>2016-01-01 01:44:14</td>\n",
       "      <td>1776</td>\n",
       "      <td>5742</td>\n",
       "      <td>@</td>\n",
       "      <td>NaN</td>\n",
       "      <td>NaN</td>\n",
       "    </tr>\n",
       "    <tr>\n",
       "      <th>27175</th>\n",
       "      <td>682764544402440192</td>\n",
       "      <td>https://twitter.com/realDonaldTrump/status/682...</td>\n",
       "      <td>HAPPY NEW YEAR &amp; THANK YOU! https://www.facebo...</td>\n",
       "      <td>2016-01-01 04:25:27</td>\n",
       "      <td>2887</td>\n",
       "      <td>7363</td>\n",
       "      <td>NaN</td>\n",
       "      <td>NaN</td>\n",
       "      <td>NaN</td>\n",
       "    </tr>\n",
       "    <tr>\n",
       "      <th>27176</th>\n",
       "      <td>682792967736848385</td>\n",
       "      <td>https://twitter.com/realDonaldTrump/status/682...</td>\n",
       "      <td># HappyNewYearAmerica!pic.twitter.com/EeQb8PDrUe</td>\n",
       "      <td>2016-01-01 06:18:23</td>\n",
       "      <td>2882</td>\n",
       "      <td>7839</td>\n",
       "      <td>NaN</td>\n",
       "      <td>#</td>\n",
       "      <td>NaN</td>\n",
       "    </tr>\n",
       "    <tr>\n",
       "      <th>...</th>\n",
       "      <td>...</td>\n",
       "      <td>...</td>\n",
       "      <td>...</td>\n",
       "      <td>...</td>\n",
       "      <td>...</td>\n",
       "      <td>...</td>\n",
       "      <td>...</td>\n",
       "      <td>...</td>\n",
       "      <td>...</td>\n",
       "    </tr>\n",
       "    <tr>\n",
       "      <th>31113</th>\n",
       "      <td>814110460761018368</td>\n",
       "      <td>https://twitter.com/realDonaldTrump/status/814...</td>\n",
       "      <td>Doing my best to disregard the many inflammato...</td>\n",
       "      <td>2016-12-28 15:07:13</td>\n",
       "      <td>26563</td>\n",
       "      <td>102340</td>\n",
       "      <td>NaN</td>\n",
       "      <td>NaN</td>\n",
       "      <td>NaN</td>\n",
       "    </tr>\n",
       "    <tr>\n",
       "      <th>31114</th>\n",
       "      <td>814113616110751744</td>\n",
       "      <td>https://twitter.com/realDonaldTrump/status/814...</td>\n",
       "      <td>We cannot continue to let Israel be treated wi...</td>\n",
       "      <td>2016-12-28 15:19:46</td>\n",
       "      <td>25433</td>\n",
       "      <td>93467</td>\n",
       "      <td>NaN</td>\n",
       "      <td>NaN</td>\n",
       "      <td>NaN</td>\n",
       "    </tr>\n",
       "    <tr>\n",
       "      <th>31115</th>\n",
       "      <td>814114980983427073</td>\n",
       "      <td>https://twitter.com/realDonaldTrump/status/814...</td>\n",
       "      <td>not anymore. The beginning of the end was the ...</td>\n",
       "      <td>2016-12-28 15:25:11</td>\n",
       "      <td>29033</td>\n",
       "      <td>102879</td>\n",
       "      <td>NaN</td>\n",
       "      <td>NaN</td>\n",
       "      <td>NaN</td>\n",
       "    </tr>\n",
       "    <tr>\n",
       "      <th>31116</th>\n",
       "      <td>814231064847728640</td>\n",
       "      <td>https://twitter.com/realDonaldTrump/status/814...</td>\n",
       "      <td>'Economists say Trump delivered hope'http://ww...</td>\n",
       "      <td>2016-12-28 23:06:28</td>\n",
       "      <td>11674</td>\n",
       "      <td>44791</td>\n",
       "      <td>NaN</td>\n",
       "      <td>NaN</td>\n",
       "      <td>NaN</td>\n",
       "    </tr>\n",
       "    <tr>\n",
       "      <th>31117</th>\n",
       "      <td>814484710025994241</td>\n",
       "      <td>https://twitter.com/realDonaldTrump/status/814...</td>\n",
       "      <td>My Administration will follow two simple rules...</td>\n",
       "      <td>2016-12-29 15:54:21</td>\n",
       "      <td>9469</td>\n",
       "      <td>39306</td>\n",
       "      <td>NaN</td>\n",
       "      <td>NaN</td>\n",
       "      <td>NaN</td>\n",
       "    </tr>\n",
       "  </tbody>\n",
       "</table>\n",
       "<p>3783 rows × 9 columns</p>\n",
       "</div>"
      ],
      "text/plain": [
       "                       id                                               link  \\\n",
       "27172  682700657304989697  https://twitter.com/realDonaldTrump/status/682...   \n",
       "27173  682703233492619264  https://twitter.com/realDonaldTrump/status/682...   \n",
       "27174  682723973449289728  https://twitter.com/realDonaldTrump/status/682...   \n",
       "27175  682764544402440192  https://twitter.com/realDonaldTrump/status/682...   \n",
       "27176  682792967736848385  https://twitter.com/realDonaldTrump/status/682...   \n",
       "...                   ...                                                ...   \n",
       "31113  814110460761018368  https://twitter.com/realDonaldTrump/status/814...   \n",
       "31114  814113616110751744  https://twitter.com/realDonaldTrump/status/814...   \n",
       "31115  814114980983427073  https://twitter.com/realDonaldTrump/status/814...   \n",
       "31116  814231064847728640  https://twitter.com/realDonaldTrump/status/814...   \n",
       "31117  814484710025994241  https://twitter.com/realDonaldTrump/status/814...   \n",
       "\n",
       "                                                 content                date  \\\n",
       "27172  Do you believe that The State Department, on N... 2016-01-01 00:11:35   \n",
       "27173  I would like to wish everyone A HAPPY AND HEAL... 2016-01-01 00:21:49   \n",
       "27174  I will be on @ FoxNews live, with members of m... 2016-01-01 01:44:14   \n",
       "27175  HAPPY NEW YEAR & THANK YOU! https://www.facebo... 2016-01-01 04:25:27   \n",
       "27176   # HappyNewYearAmerica!pic.twitter.com/EeQb8PDrUe 2016-01-01 06:18:23   \n",
       "...                                                  ...                 ...   \n",
       "31113  Doing my best to disregard the many inflammato... 2016-12-28 15:07:13   \n",
       "31114  We cannot continue to let Israel be treated wi... 2016-12-28 15:19:46   \n",
       "31115  not anymore. The beginning of the end was the ... 2016-12-28 15:25:11   \n",
       "31116  'Economists say Trump delivered hope'http://ww... 2016-12-28 23:06:28   \n",
       "31117  My Administration will follow two simple rules... 2016-12-29 15:54:21   \n",
       "\n",
       "       retweets  favorites mentions hashtags  geo  \n",
       "27172      2379       5904      NaN      NaN  NaN  \n",
       "27173      5969      14936      NaN      NaN  NaN  \n",
       "27174      1776       5742        @      NaN  NaN  \n",
       "27175      2887       7363      NaN      NaN  NaN  \n",
       "27176      2882       7839      NaN        #  NaN  \n",
       "...         ...        ...      ...      ...  ...  \n",
       "31113     26563     102340      NaN      NaN  NaN  \n",
       "31114     25433      93467      NaN      NaN  NaN  \n",
       "31115     29033     102879      NaN      NaN  NaN  \n",
       "31116     11674      44791      NaN      NaN  NaN  \n",
       "31117      9469      39306      NaN      NaN  NaN  \n",
       "\n",
       "[3783 rows x 9 columns]"
      ]
     },
     "execution_count": 122,
     "metadata": {},
     "output_type": "execute_result"
    }
   ],
   "source": [
    "viralTweet = ( twtElection.favorites > 1000 ) & (twtElection.retweets > 1000)\n",
    "twtElection[viralTweet]"
   ]
  },
  {
   "cell_type": "code",
   "execution_count": 123,
   "metadata": {},
   "outputs": [],
   "source": [
    "import jovian"
   ]
  },
  {
   "cell_type": "code",
   "execution_count": 124,
   "metadata": {},
   "outputs": [
    {
     "data": {
      "application/javascript": [
       "window.require && require([\"base/js/namespace\"],function(Jupyter){Jupyter.notebook.save_checkpoint()})"
      ],
      "text/plain": [
       "<IPython.core.display.Javascript object>"
      ]
     },
     "metadata": {},
     "output_type": "display_data"
    },
    {
     "name": "stdout",
     "output_type": "stream",
     "text": [
      "[jovian] Attempting to save notebook..\n",
      "[jovian] Updating notebook \"saadberry29/donald-j-trump-a-twitter-analysis\" on https://jovian.ml/\n",
      "[jovian] Uploading notebook..\n",
      "[jovian] Capturing environment..\n",
      "[jovian] Committed successfully! https://jovian.ml/saadberry29/donald-j-trump-a-twitter-analysis\n"
     ]
    },
    {
     "data": {
      "text/plain": [
       "'https://jovian.ml/saadberry29/donald-j-trump-a-twitter-analysis'"
      ]
     },
     "execution_count": 124,
     "metadata": {},
     "output_type": "execute_result"
    }
   ],
   "source": [
    "jovian.commit()"
   ]
  },
  {
   "cell_type": "markdown",
   "metadata": {},
   "source": [
    "## Inferences and Conclusion\n",
    "\n",
    "### In this section i  wrap up everything that I have observed and come upto a reasonable conclusion"
   ]
  },
  {
   "cell_type": "markdown",
   "metadata": {},
   "source": [
    "## I noticed a trend that Donald Trump gradually started tweeting more as Election month approached, with October being the month he tweeted the most. (450+ tweets)"
   ]
  },
  {
   "cell_type": "markdown",
   "metadata": {},
   "source": [
    "## November (Election month) was the month when Trump received the most favorites on his tweets"
   ]
  },
  {
   "cell_type": "markdown",
   "metadata": {},
   "source": [
    "## After completing this project, i have realised how imperative social media is for politicians and their campaigns.\n",
    "\n",
    "## A big chunk of their campaigns are done online, and the reception they recieve on social media is a good indicator of their popularity among the people."
   ]
  },
  {
   "cell_type": "code",
   "execution_count": 125,
   "metadata": {},
   "outputs": [],
   "source": [
    "import jovian"
   ]
  },
  {
   "cell_type": "code",
   "execution_count": 126,
   "metadata": {},
   "outputs": [
    {
     "data": {
      "application/javascript": [
       "window.require && require([\"base/js/namespace\"],function(Jupyter){Jupyter.notebook.save_checkpoint()})"
      ],
      "text/plain": [
       "<IPython.core.display.Javascript object>"
      ]
     },
     "metadata": {},
     "output_type": "display_data"
    },
    {
     "name": "stdout",
     "output_type": "stream",
     "text": [
      "[jovian] Attempting to save notebook..\n",
      "[jovian] Updating notebook \"saadberry29/donald-j-trump-a-twitter-analysis\" on https://jovian.ml/\n",
      "[jovian] Uploading notebook..\n",
      "[jovian] Capturing environment..\n",
      "[jovian] Committed successfully! https://jovian.ml/saadberry29/donald-j-trump-a-twitter-analysis\n"
     ]
    },
    {
     "data": {
      "text/plain": [
       "'https://jovian.ml/saadberry29/donald-j-trump-a-twitter-analysis'"
      ]
     },
     "execution_count": 126,
     "metadata": {},
     "output_type": "execute_result"
    }
   ],
   "source": [
    "jovian.commit()"
   ]
  },
  {
   "cell_type": "markdown",
   "metadata": {},
   "source": [
    "## References and Future Work\n",
    "\n",
    "### In this section i discuss my future plans related to data science"
   ]
  },
  {
   "cell_type": "markdown",
   "metadata": {},
   "source": [
    "### In the future i intend on delving further into this dataset and analazying a handful of more topics which were important during Donald Trump's term."
   ]
  },
  {
   "cell_type": "markdown",
   "metadata": {},
   "source": [
    "### Furthermore, I look forward to working on more data sets in the future. The aspect of analysing, making reasonable conclusions and prediciting certain outcomes from a set of data in data science is something that truly makes me feel like a scientist!"
   ]
  },
  {
   "cell_type": "code",
   "execution_count": 127,
   "metadata": {},
   "outputs": [],
   "source": [
    "import jovian"
   ]
  },
  {
   "cell_type": "code",
   "execution_count": null,
   "metadata": {},
   "outputs": [
    {
     "data": {
      "application/javascript": [
       "window.require && require([\"base/js/namespace\"],function(Jupyter){Jupyter.notebook.save_checkpoint()})"
      ],
      "text/plain": [
       "<IPython.core.display.Javascript object>"
      ]
     },
     "metadata": {},
     "output_type": "display_data"
    },
    {
     "name": "stdout",
     "output_type": "stream",
     "text": [
      "[jovian] Attempting to save notebook..\r\n"
     ]
    }
   ],
   "source": [
    "jovian.commit()"
   ]
  },
  {
   "cell_type": "code",
   "execution_count": null,
   "metadata": {},
   "outputs": [],
   "source": []
  }
 ],
 "metadata": {
  "kernelspec": {
   "display_name": "Python 3 (ipykernel)",
   "language": "python",
   "name": "python3"
  },
  "language_info": {
   "codemirror_mode": {
    "name": "ipython",
    "version": 3
   },
   "file_extension": ".py",
   "mimetype": "text/x-python",
   "name": "python",
   "nbconvert_exporter": "python",
   "pygments_lexer": "ipython3",
   "version": "3.9.6"
  }
 },
 "nbformat": 4,
 "nbformat_minor": 4
}
